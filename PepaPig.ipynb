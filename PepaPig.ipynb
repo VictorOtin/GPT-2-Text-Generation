{
  "nbformat": 4,
  "nbformat_minor": 0,
  "metadata": {
    "colab": {
      "name": "PepaPig.ipynb",
      "provenance": [],
      "collapsed_sections": [],
      "authorship_tag": "ABX9TyMtdZZfHioQrut6xZdgwG+d",
      "include_colab_link": true
    },
    "kernelspec": {
      "name": "python3",
      "display_name": "Python 3"
    },
    "accelerator": "GPU",
    "widgets": {
      "application/vnd.jupyter.widget-state+json": {
        "b56d542de3a14510987402deebc21387": {
          "model_module": "@jupyter-widgets/controls",
          "model_name": "HBoxModel",
          "state": {
            "_view_name": "HBoxView",
            "_dom_classes": [],
            "_model_name": "HBoxModel",
            "_view_module": "@jupyter-widgets/controls",
            "_model_module_version": "1.5.0",
            "_view_count": null,
            "_view_module_version": "1.5.0",
            "box_style": "",
            "layout": "IPY_MODEL_33ffec56e02e4fae8f9fcf571d71166e",
            "_model_module": "@jupyter-widgets/controls",
            "children": [
              "IPY_MODEL_64e2b6dac4a14eb5a5dc6bc0eedc6253",
              "IPY_MODEL_5dc97e8f92c84fed89282a03fbbbfd0d"
            ]
          }
        },
        "33ffec56e02e4fae8f9fcf571d71166e": {
          "model_module": "@jupyter-widgets/base",
          "model_name": "LayoutModel",
          "state": {
            "_view_name": "LayoutView",
            "grid_template_rows": null,
            "right": null,
            "justify_content": null,
            "_view_module": "@jupyter-widgets/base",
            "overflow": null,
            "_model_module_version": "1.2.0",
            "_view_count": null,
            "flex_flow": null,
            "width": null,
            "min_width": null,
            "border": null,
            "align_items": null,
            "bottom": null,
            "_model_module": "@jupyter-widgets/base",
            "top": null,
            "grid_column": null,
            "overflow_y": null,
            "overflow_x": null,
            "grid_auto_flow": null,
            "grid_area": null,
            "grid_template_columns": null,
            "flex": null,
            "_model_name": "LayoutModel",
            "justify_items": null,
            "grid_row": null,
            "max_height": null,
            "align_content": null,
            "visibility": null,
            "align_self": null,
            "height": null,
            "min_height": null,
            "padding": null,
            "grid_auto_rows": null,
            "grid_gap": null,
            "max_width": null,
            "order": null,
            "_view_module_version": "1.2.0",
            "grid_template_areas": null,
            "object_position": null,
            "object_fit": null,
            "grid_auto_columns": null,
            "margin": null,
            "display": null,
            "left": null
          }
        },
        "64e2b6dac4a14eb5a5dc6bc0eedc6253": {
          "model_module": "@jupyter-widgets/controls",
          "model_name": "FloatProgressModel",
          "state": {
            "_view_name": "ProgressView",
            "style": "IPY_MODEL_7f073ae793ab4cf4837a0c2a3b3511d6",
            "_dom_classes": [],
            "description": "Downloading: 100%",
            "_model_name": "FloatProgressModel",
            "bar_style": "success",
            "max": 718,
            "_view_module": "@jupyter-widgets/controls",
            "_model_module_version": "1.5.0",
            "value": 718,
            "_view_count": null,
            "_view_module_version": "1.5.0",
            "orientation": "horizontal",
            "min": 0,
            "description_tooltip": null,
            "_model_module": "@jupyter-widgets/controls",
            "layout": "IPY_MODEL_78db473a6c214c99b542e1f463f3d440"
          }
        },
        "5dc97e8f92c84fed89282a03fbbbfd0d": {
          "model_module": "@jupyter-widgets/controls",
          "model_name": "HTMLModel",
          "state": {
            "_view_name": "HTMLView",
            "style": "IPY_MODEL_cedad289bd1845f0bb7c34c233a009bd",
            "_dom_classes": [],
            "description": "",
            "_model_name": "HTMLModel",
            "placeholder": "​",
            "_view_module": "@jupyter-widgets/controls",
            "_model_module_version": "1.5.0",
            "value": " 718/718 [00:00&lt;00:00, 1.00kB/s]",
            "_view_count": null,
            "_view_module_version": "1.5.0",
            "description_tooltip": null,
            "_model_module": "@jupyter-widgets/controls",
            "layout": "IPY_MODEL_c580c54d1bb64bf5ab55e011850697ff"
          }
        },
        "7f073ae793ab4cf4837a0c2a3b3511d6": {
          "model_module": "@jupyter-widgets/controls",
          "model_name": "ProgressStyleModel",
          "state": {
            "_view_name": "StyleView",
            "_model_name": "ProgressStyleModel",
            "description_width": "initial",
            "_view_module": "@jupyter-widgets/base",
            "_model_module_version": "1.5.0",
            "_view_count": null,
            "_view_module_version": "1.2.0",
            "bar_color": null,
            "_model_module": "@jupyter-widgets/controls"
          }
        },
        "78db473a6c214c99b542e1f463f3d440": {
          "model_module": "@jupyter-widgets/base",
          "model_name": "LayoutModel",
          "state": {
            "_view_name": "LayoutView",
            "grid_template_rows": null,
            "right": null,
            "justify_content": null,
            "_view_module": "@jupyter-widgets/base",
            "overflow": null,
            "_model_module_version": "1.2.0",
            "_view_count": null,
            "flex_flow": null,
            "width": null,
            "min_width": null,
            "border": null,
            "align_items": null,
            "bottom": null,
            "_model_module": "@jupyter-widgets/base",
            "top": null,
            "grid_column": null,
            "overflow_y": null,
            "overflow_x": null,
            "grid_auto_flow": null,
            "grid_area": null,
            "grid_template_columns": null,
            "flex": null,
            "_model_name": "LayoutModel",
            "justify_items": null,
            "grid_row": null,
            "max_height": null,
            "align_content": null,
            "visibility": null,
            "align_self": null,
            "height": null,
            "min_height": null,
            "padding": null,
            "grid_auto_rows": null,
            "grid_gap": null,
            "max_width": null,
            "order": null,
            "_view_module_version": "1.2.0",
            "grid_template_areas": null,
            "object_position": null,
            "object_fit": null,
            "grid_auto_columns": null,
            "margin": null,
            "display": null,
            "left": null
          }
        },
        "cedad289bd1845f0bb7c34c233a009bd": {
          "model_module": "@jupyter-widgets/controls",
          "model_name": "DescriptionStyleModel",
          "state": {
            "_view_name": "StyleView",
            "_model_name": "DescriptionStyleModel",
            "description_width": "",
            "_view_module": "@jupyter-widgets/base",
            "_model_module_version": "1.5.0",
            "_view_count": null,
            "_view_module_version": "1.2.0",
            "_model_module": "@jupyter-widgets/controls"
          }
        },
        "c580c54d1bb64bf5ab55e011850697ff": {
          "model_module": "@jupyter-widgets/base",
          "model_name": "LayoutModel",
          "state": {
            "_view_name": "LayoutView",
            "grid_template_rows": null,
            "right": null,
            "justify_content": null,
            "_view_module": "@jupyter-widgets/base",
            "overflow": null,
            "_model_module_version": "1.2.0",
            "_view_count": null,
            "flex_flow": null,
            "width": null,
            "min_width": null,
            "border": null,
            "align_items": null,
            "bottom": null,
            "_model_module": "@jupyter-widgets/base",
            "top": null,
            "grid_column": null,
            "overflow_y": null,
            "overflow_x": null,
            "grid_auto_flow": null,
            "grid_area": null,
            "grid_template_columns": null,
            "flex": null,
            "_model_name": "LayoutModel",
            "justify_items": null,
            "grid_row": null,
            "max_height": null,
            "align_content": null,
            "visibility": null,
            "align_self": null,
            "height": null,
            "min_height": null,
            "padding": null,
            "grid_auto_rows": null,
            "grid_gap": null,
            "max_width": null,
            "order": null,
            "_view_module_version": "1.2.0",
            "grid_template_areas": null,
            "object_position": null,
            "object_fit": null,
            "grid_auto_columns": null,
            "margin": null,
            "display": null,
            "left": null
          }
        },
        "cdf4009bf22c4531867fde8108214f12": {
          "model_module": "@jupyter-widgets/controls",
          "model_name": "HBoxModel",
          "state": {
            "_view_name": "HBoxView",
            "_dom_classes": [],
            "_model_name": "HBoxModel",
            "_view_module": "@jupyter-widgets/controls",
            "_model_module_version": "1.5.0",
            "_view_count": null,
            "_view_module_version": "1.5.0",
            "box_style": "",
            "layout": "IPY_MODEL_74c6d4e582b54f59bb85b24e851b7f5c",
            "_model_module": "@jupyter-widgets/controls",
            "children": [
              "IPY_MODEL_c26bd1124e4c4430b72768d52c54aea5",
              "IPY_MODEL_f88b9088b3b441768a618437504bed9a"
            ]
          }
        },
        "74c6d4e582b54f59bb85b24e851b7f5c": {
          "model_module": "@jupyter-widgets/base",
          "model_name": "LayoutModel",
          "state": {
            "_view_name": "LayoutView",
            "grid_template_rows": null,
            "right": null,
            "justify_content": null,
            "_view_module": "@jupyter-widgets/base",
            "overflow": null,
            "_model_module_version": "1.2.0",
            "_view_count": null,
            "flex_flow": null,
            "width": null,
            "min_width": null,
            "border": null,
            "align_items": null,
            "bottom": null,
            "_model_module": "@jupyter-widgets/base",
            "top": null,
            "grid_column": null,
            "overflow_y": null,
            "overflow_x": null,
            "grid_auto_flow": null,
            "grid_area": null,
            "grid_template_columns": null,
            "flex": null,
            "_model_name": "LayoutModel",
            "justify_items": null,
            "grid_row": null,
            "max_height": null,
            "align_content": null,
            "visibility": null,
            "align_self": null,
            "height": null,
            "min_height": null,
            "padding": null,
            "grid_auto_rows": null,
            "grid_gap": null,
            "max_width": null,
            "order": null,
            "_view_module_version": "1.2.0",
            "grid_template_areas": null,
            "object_position": null,
            "object_fit": null,
            "grid_auto_columns": null,
            "margin": null,
            "display": null,
            "left": null
          }
        },
        "c26bd1124e4c4430b72768d52c54aea5": {
          "model_module": "@jupyter-widgets/controls",
          "model_name": "FloatProgressModel",
          "state": {
            "_view_name": "ProgressView",
            "style": "IPY_MODEL_0482875716ba4224b357ca71e1cf4cee",
            "_dom_classes": [],
            "description": "Downloading: 100%",
            "_model_name": "FloatProgressModel",
            "bar_style": "success",
            "max": 1042301,
            "_view_module": "@jupyter-widgets/controls",
            "_model_module_version": "1.5.0",
            "value": 1042301,
            "_view_count": null,
            "_view_module_version": "1.5.0",
            "orientation": "horizontal",
            "min": 0,
            "description_tooltip": null,
            "_model_module": "@jupyter-widgets/controls",
            "layout": "IPY_MODEL_88ed547ae9ae437f917601553865dc66"
          }
        },
        "f88b9088b3b441768a618437504bed9a": {
          "model_module": "@jupyter-widgets/controls",
          "model_name": "HTMLModel",
          "state": {
            "_view_name": "HTMLView",
            "style": "IPY_MODEL_4173c8a31d714a1cb99326e4874e3db7",
            "_dom_classes": [],
            "description": "",
            "_model_name": "HTMLModel",
            "placeholder": "​",
            "_view_module": "@jupyter-widgets/controls",
            "_model_module_version": "1.5.0",
            "value": " 1.04M/1.04M [00:00&lt;00:00, 1.69MB/s]",
            "_view_count": null,
            "_view_module_version": "1.5.0",
            "description_tooltip": null,
            "_model_module": "@jupyter-widgets/controls",
            "layout": "IPY_MODEL_cc15e040a0e84134971820fbca2ebe92"
          }
        },
        "0482875716ba4224b357ca71e1cf4cee": {
          "model_module": "@jupyter-widgets/controls",
          "model_name": "ProgressStyleModel",
          "state": {
            "_view_name": "StyleView",
            "_model_name": "ProgressStyleModel",
            "description_width": "initial",
            "_view_module": "@jupyter-widgets/base",
            "_model_module_version": "1.5.0",
            "_view_count": null,
            "_view_module_version": "1.2.0",
            "bar_color": null,
            "_model_module": "@jupyter-widgets/controls"
          }
        },
        "88ed547ae9ae437f917601553865dc66": {
          "model_module": "@jupyter-widgets/base",
          "model_name": "LayoutModel",
          "state": {
            "_view_name": "LayoutView",
            "grid_template_rows": null,
            "right": null,
            "justify_content": null,
            "_view_module": "@jupyter-widgets/base",
            "overflow": null,
            "_model_module_version": "1.2.0",
            "_view_count": null,
            "flex_flow": null,
            "width": null,
            "min_width": null,
            "border": null,
            "align_items": null,
            "bottom": null,
            "_model_module": "@jupyter-widgets/base",
            "top": null,
            "grid_column": null,
            "overflow_y": null,
            "overflow_x": null,
            "grid_auto_flow": null,
            "grid_area": null,
            "grid_template_columns": null,
            "flex": null,
            "_model_name": "LayoutModel",
            "justify_items": null,
            "grid_row": null,
            "max_height": null,
            "align_content": null,
            "visibility": null,
            "align_self": null,
            "height": null,
            "min_height": null,
            "padding": null,
            "grid_auto_rows": null,
            "grid_gap": null,
            "max_width": null,
            "order": null,
            "_view_module_version": "1.2.0",
            "grid_template_areas": null,
            "object_position": null,
            "object_fit": null,
            "grid_auto_columns": null,
            "margin": null,
            "display": null,
            "left": null
          }
        },
        "4173c8a31d714a1cb99326e4874e3db7": {
          "model_module": "@jupyter-widgets/controls",
          "model_name": "DescriptionStyleModel",
          "state": {
            "_view_name": "StyleView",
            "_model_name": "DescriptionStyleModel",
            "description_width": "",
            "_view_module": "@jupyter-widgets/base",
            "_model_module_version": "1.5.0",
            "_view_count": null,
            "_view_module_version": "1.2.0",
            "_model_module": "@jupyter-widgets/controls"
          }
        },
        "cc15e040a0e84134971820fbca2ebe92": {
          "model_module": "@jupyter-widgets/base",
          "model_name": "LayoutModel",
          "state": {
            "_view_name": "LayoutView",
            "grid_template_rows": null,
            "right": null,
            "justify_content": null,
            "_view_module": "@jupyter-widgets/base",
            "overflow": null,
            "_model_module_version": "1.2.0",
            "_view_count": null,
            "flex_flow": null,
            "width": null,
            "min_width": null,
            "border": null,
            "align_items": null,
            "bottom": null,
            "_model_module": "@jupyter-widgets/base",
            "top": null,
            "grid_column": null,
            "overflow_y": null,
            "overflow_x": null,
            "grid_auto_flow": null,
            "grid_area": null,
            "grid_template_columns": null,
            "flex": null,
            "_model_name": "LayoutModel",
            "justify_items": null,
            "grid_row": null,
            "max_height": null,
            "align_content": null,
            "visibility": null,
            "align_self": null,
            "height": null,
            "min_height": null,
            "padding": null,
            "grid_auto_rows": null,
            "grid_gap": null,
            "max_width": null,
            "order": null,
            "_view_module_version": "1.2.0",
            "grid_template_areas": null,
            "object_position": null,
            "object_fit": null,
            "grid_auto_columns": null,
            "margin": null,
            "display": null,
            "left": null
          }
        },
        "2fd1e1dfe7814c189efbedb82e173c5f": {
          "model_module": "@jupyter-widgets/controls",
          "model_name": "HBoxModel",
          "state": {
            "_view_name": "HBoxView",
            "_dom_classes": [],
            "_model_name": "HBoxModel",
            "_view_module": "@jupyter-widgets/controls",
            "_model_module_version": "1.5.0",
            "_view_count": null,
            "_view_module_version": "1.5.0",
            "box_style": "",
            "layout": "IPY_MODEL_095ad00384c443cebcd7d668b121850a",
            "_model_module": "@jupyter-widgets/controls",
            "children": [
              "IPY_MODEL_c1fc4888430c462aa79113a43b5b90d1",
              "IPY_MODEL_804a0b603576464da4291c32c9b9dcb2"
            ]
          }
        },
        "095ad00384c443cebcd7d668b121850a": {
          "model_module": "@jupyter-widgets/base",
          "model_name": "LayoutModel",
          "state": {
            "_view_name": "LayoutView",
            "grid_template_rows": null,
            "right": null,
            "justify_content": null,
            "_view_module": "@jupyter-widgets/base",
            "overflow": null,
            "_model_module_version": "1.2.0",
            "_view_count": null,
            "flex_flow": null,
            "width": null,
            "min_width": null,
            "border": null,
            "align_items": null,
            "bottom": null,
            "_model_module": "@jupyter-widgets/base",
            "top": null,
            "grid_column": null,
            "overflow_y": null,
            "overflow_x": null,
            "grid_auto_flow": null,
            "grid_area": null,
            "grid_template_columns": null,
            "flex": null,
            "_model_name": "LayoutModel",
            "justify_items": null,
            "grid_row": null,
            "max_height": null,
            "align_content": null,
            "visibility": null,
            "align_self": null,
            "height": null,
            "min_height": null,
            "padding": null,
            "grid_auto_rows": null,
            "grid_gap": null,
            "max_width": null,
            "order": null,
            "_view_module_version": "1.2.0",
            "grid_template_areas": null,
            "object_position": null,
            "object_fit": null,
            "grid_auto_columns": null,
            "margin": null,
            "display": null,
            "left": null
          }
        },
        "c1fc4888430c462aa79113a43b5b90d1": {
          "model_module": "@jupyter-widgets/controls",
          "model_name": "FloatProgressModel",
          "state": {
            "_view_name": "ProgressView",
            "style": "IPY_MODEL_7567574dea364872871a2b64b3012537",
            "_dom_classes": [],
            "description": "Downloading: 100%",
            "_model_name": "FloatProgressModel",
            "bar_style": "success",
            "max": 456318,
            "_view_module": "@jupyter-widgets/controls",
            "_model_module_version": "1.5.0",
            "value": 456318,
            "_view_count": null,
            "_view_module_version": "1.5.0",
            "orientation": "horizontal",
            "min": 0,
            "description_tooltip": null,
            "_model_module": "@jupyter-widgets/controls",
            "layout": "IPY_MODEL_bb4b40b8e4f546d79588adda87fc787f"
          }
        },
        "804a0b603576464da4291c32c9b9dcb2": {
          "model_module": "@jupyter-widgets/controls",
          "model_name": "HTMLModel",
          "state": {
            "_view_name": "HTMLView",
            "style": "IPY_MODEL_b887c0847f0f46f7b142858936f67aa5",
            "_dom_classes": [],
            "description": "",
            "_model_name": "HTMLModel",
            "placeholder": "​",
            "_view_module": "@jupyter-widgets/controls",
            "_model_module_version": "1.5.0",
            "value": " 456k/456k [00:00&lt;00:00, 934kB/s]",
            "_view_count": null,
            "_view_module_version": "1.5.0",
            "description_tooltip": null,
            "_model_module": "@jupyter-widgets/controls",
            "layout": "IPY_MODEL_e2d5553974c3494e816e49290cb8d864"
          }
        },
        "7567574dea364872871a2b64b3012537": {
          "model_module": "@jupyter-widgets/controls",
          "model_name": "ProgressStyleModel",
          "state": {
            "_view_name": "StyleView",
            "_model_name": "ProgressStyleModel",
            "description_width": "initial",
            "_view_module": "@jupyter-widgets/base",
            "_model_module_version": "1.5.0",
            "_view_count": null,
            "_view_module_version": "1.2.0",
            "bar_color": null,
            "_model_module": "@jupyter-widgets/controls"
          }
        },
        "bb4b40b8e4f546d79588adda87fc787f": {
          "model_module": "@jupyter-widgets/base",
          "model_name": "LayoutModel",
          "state": {
            "_view_name": "LayoutView",
            "grid_template_rows": null,
            "right": null,
            "justify_content": null,
            "_view_module": "@jupyter-widgets/base",
            "overflow": null,
            "_model_module_version": "1.2.0",
            "_view_count": null,
            "flex_flow": null,
            "width": null,
            "min_width": null,
            "border": null,
            "align_items": null,
            "bottom": null,
            "_model_module": "@jupyter-widgets/base",
            "top": null,
            "grid_column": null,
            "overflow_y": null,
            "overflow_x": null,
            "grid_auto_flow": null,
            "grid_area": null,
            "grid_template_columns": null,
            "flex": null,
            "_model_name": "LayoutModel",
            "justify_items": null,
            "grid_row": null,
            "max_height": null,
            "align_content": null,
            "visibility": null,
            "align_self": null,
            "height": null,
            "min_height": null,
            "padding": null,
            "grid_auto_rows": null,
            "grid_gap": null,
            "max_width": null,
            "order": null,
            "_view_module_version": "1.2.0",
            "grid_template_areas": null,
            "object_position": null,
            "object_fit": null,
            "grid_auto_columns": null,
            "margin": null,
            "display": null,
            "left": null
          }
        },
        "b887c0847f0f46f7b142858936f67aa5": {
          "model_module": "@jupyter-widgets/controls",
          "model_name": "DescriptionStyleModel",
          "state": {
            "_view_name": "StyleView",
            "_model_name": "DescriptionStyleModel",
            "description_width": "",
            "_view_module": "@jupyter-widgets/base",
            "_model_module_version": "1.5.0",
            "_view_count": null,
            "_view_module_version": "1.2.0",
            "_model_module": "@jupyter-widgets/controls"
          }
        },
        "e2d5553974c3494e816e49290cb8d864": {
          "model_module": "@jupyter-widgets/base",
          "model_name": "LayoutModel",
          "state": {
            "_view_name": "LayoutView",
            "grid_template_rows": null,
            "right": null,
            "justify_content": null,
            "_view_module": "@jupyter-widgets/base",
            "overflow": null,
            "_model_module_version": "1.2.0",
            "_view_count": null,
            "flex_flow": null,
            "width": null,
            "min_width": null,
            "border": null,
            "align_items": null,
            "bottom": null,
            "_model_module": "@jupyter-widgets/base",
            "top": null,
            "grid_column": null,
            "overflow_y": null,
            "overflow_x": null,
            "grid_auto_flow": null,
            "grid_area": null,
            "grid_template_columns": null,
            "flex": null,
            "_model_name": "LayoutModel",
            "justify_items": null,
            "grid_row": null,
            "max_height": null,
            "align_content": null,
            "visibility": null,
            "align_self": null,
            "height": null,
            "min_height": null,
            "padding": null,
            "grid_auto_rows": null,
            "grid_gap": null,
            "max_width": null,
            "order": null,
            "_view_module_version": "1.2.0",
            "grid_template_areas": null,
            "object_position": null,
            "object_fit": null,
            "grid_auto_columns": null,
            "margin": null,
            "display": null,
            "left": null
          }
        },
        "8b61f3a9649740b491cdc947197f30eb": {
          "model_module": "@jupyter-widgets/controls",
          "model_name": "HBoxModel",
          "state": {
            "_view_name": "HBoxView",
            "_dom_classes": [],
            "_model_name": "HBoxModel",
            "_view_module": "@jupyter-widgets/controls",
            "_model_module_version": "1.5.0",
            "_view_count": null,
            "_view_module_version": "1.5.0",
            "box_style": "",
            "layout": "IPY_MODEL_0b9be40fb4df4364bc205f0181f37b9f",
            "_model_module": "@jupyter-widgets/controls",
            "children": [
              "IPY_MODEL_debdc9dcf8aa4918abf14120d21be022",
              "IPY_MODEL_e78b1e47e7874589811e002599466f0f"
            ]
          }
        },
        "0b9be40fb4df4364bc205f0181f37b9f": {
          "model_module": "@jupyter-widgets/base",
          "model_name": "LayoutModel",
          "state": {
            "_view_name": "LayoutView",
            "grid_template_rows": null,
            "right": null,
            "justify_content": null,
            "_view_module": "@jupyter-widgets/base",
            "overflow": null,
            "_model_module_version": "1.2.0",
            "_view_count": null,
            "flex_flow": null,
            "width": null,
            "min_width": null,
            "border": null,
            "align_items": null,
            "bottom": null,
            "_model_module": "@jupyter-widgets/base",
            "top": null,
            "grid_column": null,
            "overflow_y": null,
            "overflow_x": null,
            "grid_auto_flow": null,
            "grid_area": null,
            "grid_template_columns": null,
            "flex": null,
            "_model_name": "LayoutModel",
            "justify_items": null,
            "grid_row": null,
            "max_height": null,
            "align_content": null,
            "visibility": null,
            "align_self": null,
            "height": null,
            "min_height": null,
            "padding": null,
            "grid_auto_rows": null,
            "grid_gap": null,
            "max_width": null,
            "order": null,
            "_view_module_version": "1.2.0",
            "grid_template_areas": null,
            "object_position": null,
            "object_fit": null,
            "grid_auto_columns": null,
            "margin": null,
            "display": null,
            "left": null
          }
        },
        "debdc9dcf8aa4918abf14120d21be022": {
          "model_module": "@jupyter-widgets/controls",
          "model_name": "FloatProgressModel",
          "state": {
            "_view_name": "ProgressView",
            "style": "IPY_MODEL_4e0d0d60fc4441d38fdca3a96225a21c",
            "_dom_classes": [],
            "description": "Downloading: 100%",
            "_model_name": "FloatProgressModel",
            "bar_style": "success",
            "max": 1355256,
            "_view_module": "@jupyter-widgets/controls",
            "_model_module_version": "1.5.0",
            "value": 1355256,
            "_view_count": null,
            "_view_module_version": "1.5.0",
            "orientation": "horizontal",
            "min": 0,
            "description_tooltip": null,
            "_model_module": "@jupyter-widgets/controls",
            "layout": "IPY_MODEL_85330ac472854c64948e3223805992ab"
          }
        },
        "e78b1e47e7874589811e002599466f0f": {
          "model_module": "@jupyter-widgets/controls",
          "model_name": "HTMLModel",
          "state": {
            "_view_name": "HTMLView",
            "style": "IPY_MODEL_e3842041e43c4e69b78ccbb5b0db755b",
            "_dom_classes": [],
            "description": "",
            "_model_name": "HTMLModel",
            "placeholder": "​",
            "_view_module": "@jupyter-widgets/controls",
            "_model_module_version": "1.5.0",
            "value": " 1.36M/1.36M [00:00&lt;00:00, 3.75MB/s]",
            "_view_count": null,
            "_view_module_version": "1.5.0",
            "description_tooltip": null,
            "_model_module": "@jupyter-widgets/controls",
            "layout": "IPY_MODEL_00f363341c6c4fe8b0f7cd10b67563fc"
          }
        },
        "4e0d0d60fc4441d38fdca3a96225a21c": {
          "model_module": "@jupyter-widgets/controls",
          "model_name": "ProgressStyleModel",
          "state": {
            "_view_name": "StyleView",
            "_model_name": "ProgressStyleModel",
            "description_width": "initial",
            "_view_module": "@jupyter-widgets/base",
            "_model_module_version": "1.5.0",
            "_view_count": null,
            "_view_module_version": "1.2.0",
            "bar_color": null,
            "_model_module": "@jupyter-widgets/controls"
          }
        },
        "85330ac472854c64948e3223805992ab": {
          "model_module": "@jupyter-widgets/base",
          "model_name": "LayoutModel",
          "state": {
            "_view_name": "LayoutView",
            "grid_template_rows": null,
            "right": null,
            "justify_content": null,
            "_view_module": "@jupyter-widgets/base",
            "overflow": null,
            "_model_module_version": "1.2.0",
            "_view_count": null,
            "flex_flow": null,
            "width": null,
            "min_width": null,
            "border": null,
            "align_items": null,
            "bottom": null,
            "_model_module": "@jupyter-widgets/base",
            "top": null,
            "grid_column": null,
            "overflow_y": null,
            "overflow_x": null,
            "grid_auto_flow": null,
            "grid_area": null,
            "grid_template_columns": null,
            "flex": null,
            "_model_name": "LayoutModel",
            "justify_items": null,
            "grid_row": null,
            "max_height": null,
            "align_content": null,
            "visibility": null,
            "align_self": null,
            "height": null,
            "min_height": null,
            "padding": null,
            "grid_auto_rows": null,
            "grid_gap": null,
            "max_width": null,
            "order": null,
            "_view_module_version": "1.2.0",
            "grid_template_areas": null,
            "object_position": null,
            "object_fit": null,
            "grid_auto_columns": null,
            "margin": null,
            "display": null,
            "left": null
          }
        },
        "e3842041e43c4e69b78ccbb5b0db755b": {
          "model_module": "@jupyter-widgets/controls",
          "model_name": "DescriptionStyleModel",
          "state": {
            "_view_name": "StyleView",
            "_model_name": "DescriptionStyleModel",
            "description_width": "",
            "_view_module": "@jupyter-widgets/base",
            "_model_module_version": "1.5.0",
            "_view_count": null,
            "_view_module_version": "1.2.0",
            "_model_module": "@jupyter-widgets/controls"
          }
        },
        "00f363341c6c4fe8b0f7cd10b67563fc": {
          "model_module": "@jupyter-widgets/base",
          "model_name": "LayoutModel",
          "state": {
            "_view_name": "LayoutView",
            "grid_template_rows": null,
            "right": null,
            "justify_content": null,
            "_view_module": "@jupyter-widgets/base",
            "overflow": null,
            "_model_module_version": "1.2.0",
            "_view_count": null,
            "flex_flow": null,
            "width": null,
            "min_width": null,
            "border": null,
            "align_items": null,
            "bottom": null,
            "_model_module": "@jupyter-widgets/base",
            "top": null,
            "grid_column": null,
            "overflow_y": null,
            "overflow_x": null,
            "grid_auto_flow": null,
            "grid_area": null,
            "grid_template_columns": null,
            "flex": null,
            "_model_name": "LayoutModel",
            "justify_items": null,
            "grid_row": null,
            "max_height": null,
            "align_content": null,
            "visibility": null,
            "align_self": null,
            "height": null,
            "min_height": null,
            "padding": null,
            "grid_auto_rows": null,
            "grid_gap": null,
            "max_width": null,
            "order": null,
            "_view_module_version": "1.2.0",
            "grid_template_areas": null,
            "object_position": null,
            "object_fit": null,
            "grid_auto_columns": null,
            "margin": null,
            "display": null,
            "left": null
          }
        }
      }
    }
  },
  "cells": [
    {
      "cell_type": "markdown",
      "metadata": {
        "id": "view-in-github",
        "colab_type": "text"
      },
      "source": [
        "<a href=\"https://colab.research.google.com/github/GuillermoJaca/TextGenerationPepaPig/blob/master/PepaPig.ipynb\" target=\"_parent\"><img src=\"https://colab.research.google.com/assets/colab-badge.svg\" alt=\"Open In Colab\"/></a>"
      ]
    },
    {
      "cell_type": "code",
      "metadata": {
        "colab": {
          "base_uri": "https://localhost:8080/"
        },
        "id": "EyWbwBEkHVCm",
        "outputId": "3b1e56a7-cdcf-4f55-e432-8040c2223831"
      },
      "source": [
        "!pip install urlopen"
      ],
      "execution_count": null,
      "outputs": [
        {
          "output_type": "stream",
          "text": [
            "Collecting urlopen\n",
            "  Downloading https://files.pythonhosted.org/packages/92/07/162055ea1a91f7b88ae77d1b72e1e8bff7348ec01359d014f960e8506651/urlopen-1.0.0.zip\n",
            "Building wheels for collected packages: urlopen\n",
            "  Building wheel for urlopen (setup.py) ... \u001b[?25l\u001b[?25hdone\n",
            "  Created wheel for urlopen: filename=urlopen-1.0.0-cp36-none-any.whl size=1411 sha256=264303959b5194d1d730762f56170c67d80e9bcaeca51963c3eb929a54d8af12\n",
            "  Stored in directory: /root/.cache/pip/wheels/1e/3e/86/70a25feebbfcbde0fbb2defe9e0610ba44aa32217fc4a53060\n",
            "Successfully built urlopen\n",
            "Installing collected packages: urlopen\n",
            "Successfully installed urlopen-1.0.0\n"
          ],
          "name": "stdout"
        }
      ]
    },
    {
      "cell_type": "code",
      "metadata": {
        "colab": {
          "base_uri": "https://localhost:8080/",
          "height": 1000
        },
        "id": "bd2xyeNxKDQg",
        "outputId": "7ec25159-2ee1-4b7b-d156-7e03f027dc20"
      },
      "source": [
        "from bs4 import BeautifulSoup\n",
        "from urllib.request import Request, urlopen\n",
        "import re\n",
        "import requests\n",
        "\n",
        "def getPepaText(url):\n",
        "  #eg. url = 'https://transcripts.fandom.com/wiki/Muddy_Puddles'\n",
        "  #Get paragraphs files\n",
        "  r = requests.get(url)\n",
        "  text = r.text\n",
        "\n",
        "  soup = BeautifulSoup(text, 'xml')\n",
        "  yourstring = str(soup.findAll('p'))\n",
        "  replaced = re.sub(\"</?p[^>]*>\", \"\", yourstring)\n",
        "  lines = replaced.splitlines()\n",
        "  return lines\n",
        "\n",
        "def get_links(mainhttp):\n",
        "  #Get all links from web page of transcriptions\n",
        "  req = Request(mainhttp)\n",
        "  html_page = urlopen(req)\n",
        "\n",
        "  soup = BeautifulSoup(html_page, \"lxml\")\n",
        "\n",
        "  links = []\n",
        "  for link in soup.findAll('a'):\n",
        "      links.append(link.get('href'))\n",
        "\n",
        "  #Filter web links to strap\n",
        "  clean_links =[]\n",
        "  for i in links:\n",
        "    if i is not None and i.startswith('/wiki'): clean_links.append(i)\n",
        "\n",
        "  return clean_links\n",
        "\n",
        "\n",
        "def get_dialoge(names,links,link_to_scrap):\n",
        "\n",
        "  final_data = []\n",
        "  for i in links:\n",
        "    link_to_scrap = 'https://transcripts.fandom.com' + '/' + str(i)\n",
        "    data = getPepaText(url= link_to_scrap)\n",
        "    print(link_to_scrap)\n",
        "    for i in data:\n",
        "      if isinstance(i,str): \n",
        "        aux = i.strip(\"[\")\n",
        "        aux = aux.strip(\"]\")\n",
        "        aux = aux.strip(\",\")\n",
        "        aux = aux.strip(\"</i>\")\n",
        "        aux = aux.strip(\"<i>\")\n",
        "        aux = aux.strip(\"</b>\")\n",
        "        aux = aux.strip(\"<b>\")\n",
        "        aux = aux.strip()\n",
        "        if aux.startswith(tuple(names)): final_data.append(aux)\n",
        "\n",
        "  return final_data\n",
        "        \n",
        "\n",
        "mainhttp = 'https://transcripts.fandom.com/wiki/Category:Peppa_Pig_transcripts' #https://transcripts.fandom.com/wiki/Rebecca_Rabbit\n",
        "names = ['Peppa', 'George', 'Granny Pig', 'Narrator', 'Grandpa Pig','Daddy Pig', 'Mummy Pig'] #len 5000\n",
        "\n",
        "links = get_links(mainhttp)\n",
        "conversations = get_dialoge(names=names,links= links,link_to_scrap=mainhttp)\n",
        "\n",
        "#Write file\n",
        "with open('conversations.txt', 'w') as filehandle:\n",
        "    for listitem in conversations:\n",
        "        filehandle.write('%s\\n' % listitem)\n",
        "\n",
        "'''\n",
        "#Load data\n",
        "conv = []\n",
        "\n",
        "# open file and read the content in a list\n",
        "with open('conversations.txt', 'r') as filehandle:\n",
        "    for line in filehandle:\n",
        "        # remove linebreak which is the last character of the string\n",
        "        con = line[:-1]\n",
        "\n",
        "        # add item to the list\n",
        "        conv.append(con)\n",
        "'''"
      ],
      "execution_count": null,
      "outputs": [
        {
          "output_type": "stream",
          "text": [
            "https://transcripts.fandom.com//wiki/Special:CreatePage\n",
            "https://transcripts.fandom.com//wiki/Cars\n",
            "https://transcripts.fandom.com//wiki/The_Prince_of_Egypt\n",
            "https://transcripts.fandom.com//wiki/Antz\n",
            "https://transcripts.fandom.com//wiki/Con_Job\n",
            "https://transcripts.fandom.com//wiki/A_Bug%27s_Life\n",
            "https://transcripts.fandom.com//wiki/Hero_of_the_Rails\n",
            "https://transcripts.fandom.com//wiki/Dio_the_Invader\n",
            "https://transcripts.fandom.com//wiki/Category:Complete_Transcripts\n",
            "https://transcripts.fandom.com//wiki/101_Dalmatians_(1961)\n",
            "https://transcripts.fandom.com//wiki/A_Night_of_Fright_is_No_Delight\n",
            "https://transcripts.fandom.com//wiki/A_Clue_for_Scooby-Doo\n",
            "https://transcripts.fandom.com//wiki/Hassle_in_the_Castle_(Scooby-Doo,_Where_Are_You!)\n",
            "https://transcripts.fandom.com//wiki/Scooby-Doo!_and_the_Witch%27s_Ghost\n",
            "https://transcripts.fandom.com//wiki/Spooky_Space_Kook\n",
            "https://transcripts.fandom.com//wiki/Go_Away_Ghost_Ship\n",
            "https://transcripts.fandom.com//wiki/Category:Movies\n",
            "https://transcripts.fandom.com//wiki/Who_Framed_Roger_Rabbit\n",
            "https://transcripts.fandom.com//wiki/My_Little_Pony:_Equestria_Girls\n",
            "https://transcripts.fandom.com//wiki/Monsters_University\n",
            "https://transcripts.fandom.com//wiki/Open_Season\n",
            "https://transcripts.fandom.com//wiki/Open_Season_2\n",
            "https://transcripts.fandom.com//wiki/Open_Season_3\n",
            "https://transcripts.fandom.com//wiki/Mulan\n",
            "https://transcripts.fandom.com//wiki/Blog:Recent_posts\n",
            "https://transcripts.fandom.com//wiki/Help:Contents\n",
            "https://transcripts.fandom.com//wiki/Category:Nick_Jr.\n",
            "https://transcripts.fandom.com//wiki/Category:Treehouse_TV\n",
            "https://transcripts.fandom.com//wiki/Category:Shows\n",
            "https://transcripts.fandom.com//wiki/Category:Peppa_Pig_transcripts?action=edit\n",
            "https://transcripts.fandom.com//wiki/Category:Peppa_Pig_transcripts?action=history\n",
            "https://transcripts.fandom.com//wiki/Category_talk:Peppa_Pig_transcripts?action=edit&redlink=1\n",
            "https://transcripts.fandom.com//wiki/Peppa_Pig\n",
            "https://transcripts.fandom.com//wiki/Daddy_Loses_His_Glasses\n",
            "https://transcripts.fandom.com//wiki/Around_the_World_with_Peppa\n",
            "https://transcripts.fandom.com//wiki/At_The_Beach\n",
            "https://transcripts.fandom.com//wiki/Baby_Alexander\n",
            "https://transcripts.fandom.com//wiki/Babysitting\n",
            "https://transcripts.fandom.com//wiki/Ballet_Lesson\n",
            "https://transcripts.fandom.com//wiki/Bedtime\n",
            "https://transcripts.fandom.com//wiki/Best_Friend\n",
            "https://transcripts.fandom.com//wiki/Bicycles_(Peppa_Pig)\n",
            "https://transcripts.fandom.com//wiki/Bubbles\n",
            "https://transcripts.fandom.com//wiki/Camping\n",
            "https://transcripts.fandom.com//wiki/Chlo%C3%A9%27s_Puppet_Show\n",
            "https://transcripts.fandom.com//wiki/Cleaning_the_Car\n",
            "https://transcripts.fandom.com//wiki/Cuckoo_Clock\n",
            "https://transcripts.fandom.com//wiki/Daddy_Gets_Fit\n",
            "https://transcripts.fandom.com//wiki/Daddy_Loses_His_Glasses\n",
            "https://transcripts.fandom.com//wiki/Daddy_Loses_His_Glasses\n",
            "https://transcripts.fandom.com//wiki/Daddy_Puts_Up_a_Picture\n",
            "https://transcripts.fandom.com//wiki/Daddy%27s_Movie_Camera\n",
            "https://transcripts.fandom.com//wiki/Dens\n",
            "https://transcripts.fandom.com//wiki/Dens\n",
            "https://transcripts.fandom.com//wiki/Dressing_Up\n",
            "https://transcripts.fandom.com//wiki/Edmond_Elephant%27s_Birthday\n",
            "https://transcripts.fandom.com//wiki/Emily_Elephant\n",
            "https://transcripts.fandom.com//wiki/Emily_Elephant\n",
            "https://transcripts.fandom.com//wiki/Fancy_Dress_Party\n",
            "https://transcripts.fandom.com//wiki/Flying_a_Kite\n",
            "https://transcripts.fandom.com//wiki/Foggy_Day\n",
            "https://transcripts.fandom.com//wiki/Freddy_Fox\n",
            "https://transcripts.fandom.com//wiki/Frogs_and_Worms_and_Butterflies\n",
            "https://transcripts.fandom.com//wiki/Gardening\n",
            "https://transcripts.fandom.com//wiki/George_Catches_a_Cold\n",
            "https://transcripts.fandom.com//wiki/George%27s_Birthday\n",
            "https://transcripts.fandom.com//wiki/George%27s_Friend\n",
            "https://transcripts.fandom.com//wiki/George%27s_Friend\n",
            "https://transcripts.fandom.com//wiki/George%27s_Woolly_Hat\n",
            "https://transcripts.fandom.com//wiki/Gerald_Giraffe\n",
            "https://transcripts.fandom.com//wiki/Grampy_Rabbit%27s_Boatyard\n",
            "https://transcripts.fandom.com//wiki/Grampy_Rabbit%27s_Dinosaur_Park\n",
            "https://transcripts.fandom.com//wiki/Grampy_Rabbit%27s_Lighthouse\n",
            "https://transcripts.fandom.com//wiki/Grandpa_Pig%27s_Boat\n",
            "https://transcripts.fandom.com//wiki/Hiccups\n",
            "https://transcripts.fandom.com//wiki/Hiccups\n",
            "https://transcripts.fandom.com//wiki/Hide_and_Seek_(Peppa_Pig)\n",
            "https://transcripts.fandom.com//wiki/Lunch\n",
            "https://transcripts.fandom.com//wiki/Lunch\n",
            "https://transcripts.fandom.com//wiki/Miss_Rabbit%27s_Helicopter\n",
            "https://transcripts.fandom.com//wiki/Mister_Skinnylegs\n",
            "https://transcripts.fandom.com//wiki/Molly_Mole\n",
            "https://transcripts.fandom.com//wiki/Mr._Dinosaur_is_Lost\n",
            "https://transcripts.fandom.com//wiki/Mr._Scarecrow\n",
            "https://transcripts.fandom.com//wiki/Muddy_Festival\n",
            "https://transcripts.fandom.com//wiki/Muddy_Puddles\n",
            "https://transcripts.fandom.com//wiki/Mummy_Pig_at_Work\n",
            "https://transcripts.fandom.com//wiki/Mummy_Pig%27s_Birthday\n",
            "https://transcripts.fandom.com//wiki/Musical_Instruments\n",
            "https://transcripts.fandom.com//wiki/My_Birthday_Party\n",
            "https://transcripts.fandom.com//wiki/My_Cousin_Chlo%C3%A9\n",
            "https://transcripts.fandom.com//wiki/Mysteries\n",
            "https://transcripts.fandom.com//wiki/New_Shoes\n",
            "https://transcripts.fandom.com//wiki/New_Shoes\n",
            "https://transcripts.fandom.com//wiki/Not_Very_Well\n",
            "https://transcripts.fandom.com//wiki/Pancakes\n",
            "https://transcripts.fandom.com//wiki/Pen_Pal\n",
            "https://transcripts.fandom.com//wiki/Peppa_and_George%27s_Garden\n",
            "https://transcripts.fandom.com//wiki/Peppa_Pig\n",
            "https://transcripts.fandom.com//wiki/Peppa_Pig\n",
            "https://transcripts.fandom.com//wiki/Peppa%27s_Christmas\n",
            "https://transcripts.fandom.com//wiki/Picnic\n",
            "https://transcripts.fandom.com//wiki/Piggy_in_the_Middle\n",
            "https://transcripts.fandom.com//wiki/Playing_Pretend\n",
            "https://transcripts.fandom.com//wiki/Polly_Parrot\n",
            "https://transcripts.fandom.com//wiki/Polly%27s_Holiday\n",
            "https://transcripts.fandom.com//wiki/Polly%27s_Holiday\n",
            "https://transcripts.fandom.com//wiki/Rebecca_Rabbit\n",
            "https://transcripts.fandom.com//wiki/Recycling\n",
            "https://transcripts.fandom.com//wiki/Richard_Rabbit_Comes_to_Play\n",
            "https://transcripts.fandom.com//wiki/Rock_Pools\n",
            "https://transcripts.fandom.com//wiki/School_Play\n",
            "https://transcripts.fandom.com//wiki/Secrets\n",
            "https://transcripts.fandom.com//wiki/Shopping_(Peppa_Pig)\n",
            "https://transcripts.fandom.com//wiki/Sleepover_(Peppa_Pig)\n",
            "https://transcripts.fandom.com//wiki/Snow_(Peppa_Pig)\n",
            "https://transcripts.fandom.com//wiki/Snow_(Peppa_Pig)\n",
            "https://transcripts.fandom.com//wiki/Sports_Day\n",
            "https://transcripts.fandom.com//wiki/Spring\n",
            "https://transcripts.fandom.com//wiki/Spring\n",
            "https://transcripts.fandom.com//wiki/Swimming\n",
            "https://transcripts.fandom.com//wiki/Swimming\n",
            "https://transcripts.fandom.com//wiki/Teddy%27s_Day_Out\n",
            "https://transcripts.fandom.com//wiki/Teddy%27s_Day_Out\n",
            "https://transcripts.fandom.com//wiki/The_Boat_Pond\n",
            "https://transcripts.fandom.com//wiki/The_Dentist_(Peppa_Pig)\n",
            "https://transcripts.fandom.com//wiki/The_Dentist_(Peppa_Pig)\n",
            "https://transcripts.fandom.com//wiki/The_Golden_Boots\n",
            "https://transcripts.fandom.com//wiki/The_Museum\n",
            "https://transcripts.fandom.com//wiki/The_New_Car\n",
            "https://transcripts.fandom.com//wiki/The_Playground\n",
            "https://transcripts.fandom.com//wiki/The_Playground\n",
            "https://transcripts.fandom.com//wiki/The_Playgroup\n",
            "https://transcripts.fandom.com//wiki/The_Powercut\n",
            "https://transcripts.fandom.com//wiki/The_Quarrel\n",
            "https://transcripts.fandom.com//wiki/The_School_Fete\n",
            "https://transcripts.fandom.com//wiki/The_Secret_Club\n",
            "https://transcripts.fandom.com//wiki/The_Sleepy_Princess\n",
            "https://transcripts.fandom.com//wiki/The_Sleepy_Princess\n",
            "https://transcripts.fandom.com//wiki/The_Time_Capsule\n",
            "https://transcripts.fandom.com//wiki/The_Time_Capsule\n",
            "https://transcripts.fandom.com//wiki/The_Tooth_Fairy\n",
            "https://transcripts.fandom.com//wiki/The_Tree_House\n",
            "https://transcripts.fandom.com//wiki/Thunderstorm\n",
            "https://transcripts.fandom.com//wiki/Tidying_Up\n",
            "https://transcripts.fandom.com//wiki/Traffic_Jam\n",
            "https://transcripts.fandom.com//wiki/Treasure_Hunt_(Peppa_Pig)\n",
            "https://transcripts.fandom.com//wiki/Very_Hot_Day\n",
            "https://transcripts.fandom.com//wiki/Wendy_Wolf%27s_Birthday\n",
            "https://transcripts.fandom.com//wiki/Whistling\n",
            "https://transcripts.fandom.com//wiki/Windy_Autumn_Day\n",
            "https://transcripts.fandom.com//wiki/Windy_Autumn_Day\n",
            "https://transcripts.fandom.com//wiki/Windy_Castle\n",
            "https://transcripts.fandom.com//wiki/Special:Categories\n",
            "https://transcripts.fandom.com//wiki/Category:Nick_Jr.\n",
            "https://transcripts.fandom.com//wiki/Category:Treehouse_TV\n",
            "https://transcripts.fandom.com//wiki/Category:Shows\n",
            "https://transcripts.fandom.com//wiki/Local_Sitemap\n"
          ],
          "name": "stdout"
        },
        {
          "output_type": "execute_result",
          "data": {
            "application/vnd.google.colaboratory.intrinsic+json": {
              "type": "string"
            },
            "text/plain": [
              "\"\\n#Load data\\nconv = []\\n\\n# open file and read the content in a list\\nwith open('conversations.txt', 'r') as filehandle:\\n    for line in filehandle:\\n        # remove linebreak which is the last character of the string\\n        con = line[:-1]\\n\\n        # add item to the list\\n        conv.append(con)\\n\""
            ]
          },
          "metadata": {
            "tags": []
          },
          "execution_count": 2
        }
      ]
    },
    {
      "cell_type": "markdown",
      "metadata": {
        "id": "dmWYQsA5me0X"
      },
      "source": [
        "#Load and split data"
      ]
    },
    {
      "cell_type": "code",
      "metadata": {
        "id": "Uu9PQD_gmZ6K"
      },
      "source": [
        "#Load data\n",
        "conv = []\n",
        "\n",
        "# open file and read the content in a list\n",
        "with open('conversations.txt', 'r') as filehandle:\n",
        "    for line in filehandle:\n",
        "        # remove linebreak which is the last character of the string\n",
        "        con = line[:-1]\n",
        "\n",
        "        # add item to the list\n",
        "        conv.append(con)"
      ],
      "execution_count": null,
      "outputs": []
    },
    {
      "cell_type": "code",
      "metadata": {
        "id": "nRyY7Go4zenk"
      },
      "source": [
        "from sklearn.model_selection import train_test_split\n",
        "train, test = train_test_split(conversations,test_size=0.15) "
      ],
      "execution_count": null,
      "outputs": []
    },
    {
      "cell_type": "code",
      "metadata": {
        "id": "XQsuegvzpUJw"
      },
      "source": [
        "#Write file\n",
        "with open('train.txt', 'w') as filehandle:\n",
        "    for listitem in train:\n",
        "        filehandle.write('%s\\n' % listitem)"
      ],
      "execution_count": null,
      "outputs": []
    },
    {
      "cell_type": "code",
      "metadata": {
        "id": "hCHuHYSBpVyu"
      },
      "source": [
        "#Write file\n",
        "with open('test.txt', 'w') as filehandle:\n",
        "    for listitem in test:\n",
        "        filehandle.write('%s\\n' % listitem)"
      ],
      "execution_count": null,
      "outputs": []
    },
    {
      "cell_type": "code",
      "metadata": {
        "colab": {
          "base_uri": "https://localhost:8080/"
        },
        "id": "cU516wZwEaRb",
        "outputId": "50aaac81-d2d4-4137-d177-6f24dd050cec"
      },
      "source": [
        "!pip install transformers"
      ],
      "execution_count": null,
      "outputs": [
        {
          "output_type": "stream",
          "text": [
            "Collecting transformers\n",
            "\u001b[?25l  Downloading https://files.pythonhosted.org/packages/99/84/7bc03215279f603125d844bf81c3fb3f2d50fe8e511546eb4897e4be2067/transformers-4.0.0-py3-none-any.whl (1.4MB)\n",
            "\u001b[K     |████████████████████████████████| 1.4MB 15.7MB/s \n",
            "\u001b[?25hRequirement already satisfied: requests in /usr/local/lib/python3.6/dist-packages (from transformers) (2.23.0)\n",
            "Requirement already satisfied: packaging in /usr/local/lib/python3.6/dist-packages (from transformers) (20.4)\n",
            "Requirement already satisfied: numpy in /usr/local/lib/python3.6/dist-packages (from transformers) (1.18.5)\n",
            "Requirement already satisfied: dataclasses; python_version < \"3.7\" in /usr/local/lib/python3.6/dist-packages (from transformers) (0.8)\n",
            "Requirement already satisfied: filelock in /usr/local/lib/python3.6/dist-packages (from transformers) (3.0.12)\n",
            "Collecting sacremoses\n",
            "\u001b[?25l  Downloading https://files.pythonhosted.org/packages/7d/34/09d19aff26edcc8eb2a01bed8e98f13a1537005d31e95233fd48216eed10/sacremoses-0.0.43.tar.gz (883kB)\n",
            "\u001b[K     |████████████████████████████████| 890kB 51.6MB/s \n",
            "\u001b[?25hRequirement already satisfied: tqdm>=4.27 in /usr/local/lib/python3.6/dist-packages (from transformers) (4.41.1)\n",
            "Collecting tokenizers==0.9.4\n",
            "\u001b[?25l  Downloading https://files.pythonhosted.org/packages/0f/1c/e789a8b12e28be5bc1ce2156cf87cb522b379be9cadc7ad8091a4cc107c4/tokenizers-0.9.4-cp36-cp36m-manylinux2010_x86_64.whl (2.9MB)\n",
            "\u001b[K     |████████████████████████████████| 2.9MB 48.9MB/s \n",
            "\u001b[?25hRequirement already satisfied: regex!=2019.12.17 in /usr/local/lib/python3.6/dist-packages (from transformers) (2019.12.20)\n",
            "Requirement already satisfied: urllib3!=1.25.0,!=1.25.1,<1.26,>=1.21.1 in /usr/local/lib/python3.6/dist-packages (from requests->transformers) (1.24.3)\n",
            "Requirement already satisfied: chardet<4,>=3.0.2 in /usr/local/lib/python3.6/dist-packages (from requests->transformers) (3.0.4)\n",
            "Requirement already satisfied: certifi>=2017.4.17 in /usr/local/lib/python3.6/dist-packages (from requests->transformers) (2020.11.8)\n",
            "Requirement already satisfied: idna<3,>=2.5 in /usr/local/lib/python3.6/dist-packages (from requests->transformers) (2.10)\n",
            "Requirement already satisfied: pyparsing>=2.0.2 in /usr/local/lib/python3.6/dist-packages (from packaging->transformers) (2.4.7)\n",
            "Requirement already satisfied: six in /usr/local/lib/python3.6/dist-packages (from packaging->transformers) (1.15.0)\n",
            "Requirement already satisfied: click in /usr/local/lib/python3.6/dist-packages (from sacremoses->transformers) (7.1.2)\n",
            "Requirement already satisfied: joblib in /usr/local/lib/python3.6/dist-packages (from sacremoses->transformers) (0.17.0)\n",
            "Building wheels for collected packages: sacremoses\n",
            "  Building wheel for sacremoses (setup.py) ... \u001b[?25l\u001b[?25hdone\n",
            "  Created wheel for sacremoses: filename=sacremoses-0.0.43-cp36-none-any.whl size=893257 sha256=6a0989a1444a048c8ad0f756064e2f675f0dfdf70fb82e3392dd3e2214579374\n",
            "  Stored in directory: /root/.cache/pip/wheels/29/3c/fd/7ce5c3f0666dab31a50123635e6fb5e19ceb42ce38d4e58f45\n",
            "Successfully built sacremoses\n",
            "Installing collected packages: sacremoses, tokenizers, transformers\n",
            "Successfully installed sacremoses-0.0.43 tokenizers-0.9.4 transformers-4.0.0\n"
          ],
          "name": "stdout"
        }
      ]
    },
    {
      "cell_type": "code",
      "metadata": {
        "id": "wUPn_7Y9CMU6",
        "colab": {
          "base_uri": "https://localhost:8080/",
          "height": 214,
          "referenced_widgets": [
            "b56d542de3a14510987402deebc21387",
            "33ffec56e02e4fae8f9fcf571d71166e",
            "64e2b6dac4a14eb5a5dc6bc0eedc6253",
            "5dc97e8f92c84fed89282a03fbbbfd0d",
            "7f073ae793ab4cf4837a0c2a3b3511d6",
            "78db473a6c214c99b542e1f463f3d440",
            "cedad289bd1845f0bb7c34c233a009bd",
            "c580c54d1bb64bf5ab55e011850697ff",
            "cdf4009bf22c4531867fde8108214f12",
            "74c6d4e582b54f59bb85b24e851b7f5c",
            "c26bd1124e4c4430b72768d52c54aea5",
            "f88b9088b3b441768a618437504bed9a",
            "0482875716ba4224b357ca71e1cf4cee",
            "88ed547ae9ae437f917601553865dc66",
            "4173c8a31d714a1cb99326e4874e3db7",
            "cc15e040a0e84134971820fbca2ebe92",
            "2fd1e1dfe7814c189efbedb82e173c5f",
            "095ad00384c443cebcd7d668b121850a",
            "c1fc4888430c462aa79113a43b5b90d1",
            "804a0b603576464da4291c32c9b9dcb2",
            "7567574dea364872871a2b64b3012537",
            "bb4b40b8e4f546d79588adda87fc787f",
            "b887c0847f0f46f7b142858936f67aa5",
            "e2d5553974c3494e816e49290cb8d864",
            "8b61f3a9649740b491cdc947197f30eb",
            "0b9be40fb4df4364bc205f0181f37b9f",
            "debdc9dcf8aa4918abf14120d21be022",
            "e78b1e47e7874589811e002599466f0f",
            "4e0d0d60fc4441d38fdca3a96225a21c",
            "85330ac472854c64948e3223805992ab",
            "e3842041e43c4e69b78ccbb5b0db755b",
            "00f363341c6c4fe8b0f7cd10b67563fc"
          ]
        },
        "outputId": "a317fd8d-0b81-4f90-9d48-6374010a7a60"
      },
      "source": [
        "from transformers import AutoTokenizer\n",
        "\n",
        "tokenizer = AutoTokenizer.from_pretrained(\"gpt2-medium\")\n",
        "\n",
        "train_path = 'train.txt'\n",
        "test_path = 'test.txt'"
      ],
      "execution_count": null,
      "outputs": [
        {
          "output_type": "display_data",
          "data": {
            "application/vnd.jupyter.widget-view+json": {
              "model_id": "b56d542de3a14510987402deebc21387",
              "version_minor": 0,
              "version_major": 2
            },
            "text/plain": [
              "HBox(children=(FloatProgress(value=0.0, description='Downloading', max=718.0, style=ProgressStyle(description_…"
            ]
          },
          "metadata": {
            "tags": []
          }
        },
        {
          "output_type": "stream",
          "text": [
            "\n"
          ],
          "name": "stdout"
        },
        {
          "output_type": "display_data",
          "data": {
            "application/vnd.jupyter.widget-view+json": {
              "model_id": "cdf4009bf22c4531867fde8108214f12",
              "version_minor": 0,
              "version_major": 2
            },
            "text/plain": [
              "HBox(children=(FloatProgress(value=0.0, description='Downloading', max=1042301.0, style=ProgressStyle(descript…"
            ]
          },
          "metadata": {
            "tags": []
          }
        },
        {
          "output_type": "stream",
          "text": [
            "\n"
          ],
          "name": "stdout"
        },
        {
          "output_type": "display_data",
          "data": {
            "application/vnd.jupyter.widget-view+json": {
              "model_id": "2fd1e1dfe7814c189efbedb82e173c5f",
              "version_minor": 0,
              "version_major": 2
            },
            "text/plain": [
              "HBox(children=(FloatProgress(value=0.0, description='Downloading', max=456318.0, style=ProgressStyle(descripti…"
            ]
          },
          "metadata": {
            "tags": []
          }
        },
        {
          "output_type": "stream",
          "text": [
            "\n"
          ],
          "name": "stdout"
        },
        {
          "output_type": "display_data",
          "data": {
            "application/vnd.jupyter.widget-view+json": {
              "model_id": "8b61f3a9649740b491cdc947197f30eb",
              "version_minor": 0,
              "version_major": 2
            },
            "text/plain": [
              "HBox(children=(FloatProgress(value=0.0, description='Downloading', max=1355256.0, style=ProgressStyle(descript…"
            ]
          },
          "metadata": {
            "tags": []
          }
        },
        {
          "output_type": "stream",
          "text": [
            "\n"
          ],
          "name": "stdout"
        }
      ]
    },
    {
      "cell_type": "code",
      "metadata": {
        "colab": {
          "base_uri": "https://localhost:8080/"
        },
        "id": "uGIE9G4mCMZ7",
        "outputId": "7a1ca594-39a3-4a9b-c911-221d131f9280"
      },
      "source": [
        "from transformers import TextDataset,DataCollatorForLanguageModeling\n",
        "\n",
        "def load_dataset(train_path,test_path,tokenizer):\n",
        "    train_dataset = TextDataset(\n",
        "          tokenizer=tokenizer,\n",
        "          file_path=train_path,\n",
        "          block_size=20)\n",
        "     \n",
        "    test_dataset = TextDataset(\n",
        "          tokenizer=tokenizer,\n",
        "          file_path=test_path,\n",
        "          block_size=20)   \n",
        "    \n",
        "    data_collator = DataCollatorForLanguageModeling(\n",
        "        tokenizer=tokenizer, mlm=False,\n",
        "    )\n",
        "    return train_dataset,test_dataset,data_collator\n",
        "\n",
        "train_dataset,test_dataset,data_collator = load_dataset(train_path,test_path,tokenizer)"
      ],
      "execution_count": null,
      "outputs": [
        {
          "output_type": "stream",
          "text": [
            "/usr/local/lib/python3.6/dist-packages/transformers/data/datasets/language_modeling.py:44: FutureWarning: This dataset will be removed from the library soon, preprocessing should be handled with the 🤗 Datasets library. You can have a look at this example script for pointers: https://github.com/huggingface/transformers/blob/master/examples/language-modeling/run_mlm.py\n",
            "  FutureWarning,\n"
          ],
          "name": "stderr"
        }
      ]
    },
    {
      "cell_type": "code",
      "metadata": {
        "colab": {
          "base_uri": "https://localhost:8080/"
        },
        "id": "1q4naVH-CMXS",
        "outputId": "b058c213-9580-4028-d555-218cd100835d"
      },
      "source": [
        "from transformers import Trainer, TrainingArguments,AutoModelWithLMHead\n",
        "\n",
        "model = AutoModelWithLMHead.from_pretrained(\"gpt2-medium\")\n",
        "\n",
        "\n",
        "training_args = TrainingArguments(\n",
        "    output_dir=\"/content\", #The output directory\n",
        "    overwrite_output_dir=True, #overwrite the content of the output directory\n",
        "    num_train_epochs=3, # number of training epochs\n",
        "    per_device_train_batch_size=1, # batch size for training\n",
        "    per_device_eval_batch_size=1,  # batch size for evaluation\n",
        "    eval_steps = 400, # Number of update steps between two evaluations.\n",
        "    save_steps=800, # after # steps model is saved \n",
        "    warmup_steps=500,# number of warmup steps for learning rate scheduler\n",
        "    )\n",
        "\n",
        "\n",
        "trainer = Trainer(\n",
        "    model=model,\n",
        "    args=training_args,\n",
        "    data_collator=data_collator,\n",
        "    train_dataset=train_dataset,\n",
        "    eval_dataset=test_dataset,\n",
        "\n",
        ")"
      ],
      "execution_count": null,
      "outputs": [
        {
          "output_type": "stream",
          "text": [
            "/usr/local/lib/python3.6/dist-packages/transformers/models/auto/modeling_auto.py:852: FutureWarning: The class `AutoModelWithLMHead` is deprecated and will be removed in a future version. Please use `AutoModelForCausalLM` for causal language models, `AutoModelForMaskedLM` for masked language models and `AutoModelForSeq2SeqLM` for encoder-decoder models.\n",
            "  FutureWarning,\n"
          ],
          "name": "stderr"
        }
      ]
    },
    {
      "cell_type": "code",
      "metadata": {
        "id": "Gi6_vibFCMTG"
      },
      "source": [
        "trainer.train()\n",
        "trainer.save_model()"
      ],
      "execution_count": null,
      "outputs": []
    },
    {
      "cell_type": "code",
      "metadata": {
        "id": "wNg9HzdPC007"
      },
      "source": [
        "from transformers import pipeline\n",
        "\n",
        "Pepastory = pipeline('text-generation',model='/content', tokenizer='gpt2-medium',config={'max_length':800})\n"
      ],
      "execution_count": null,
      "outputs": []
    },
    {
      "cell_type": "code",
      "metadata": {
        "id": "UgfLNS5VC0y2"
      },
      "source": [
        "Pepastory('Pepa')"
      ],
      "execution_count": null,
      "outputs": []
    }
  ]
}